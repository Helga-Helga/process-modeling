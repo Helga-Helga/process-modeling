{
 "cells": [
  {
   "cell_type": "markdown",
   "metadata": {},
   "source": [
    "# Лабораторная работа №4"
   ]
  },
  {
   "cell_type": "markdown",
   "metadata": {},
   "source": [
    "## Моделирование систем с хаотическим поведением на примере модели Лоренца"
   ]
  },
  {
   "cell_type": "markdown",
   "metadata": {},
   "source": [
    "### Цель работы\n",
    "Анализ диссипативных физических систем с хаотическим поведением."
   ]
  },
  {
   "cell_type": "markdown",
   "metadata": {},
   "source": [
    "### Ключевые понятия\n",
    "Система Лоренца (Lorenz system); детерминированній хаос (deterministic chaos), бифуркации (bifurcations),\n",
    "практические критерии хаоса (practicaltests of chaos), фракталы (fractals), аттракторы (attractors),\n",
    "уравнения гидродинамики (hydrodinamics equations), метод Галёргина (Galerkin’s method)."
   ]
  },
  {
   "cell_type": "markdown",
   "metadata": {},
   "source": [
    "### Теоретические основы\n",
    "Такая система описывает детерминированный непериодический ход воздуха в атмосфере.\n",
    "Это классический пример уравнений с хаотическим поведением, с процессом,\n",
    "который описывается стандартными о.д.у. --- системой 3-х уравнений первого порядка.\n",
    "\n",
    "Но возникла она из исследования реальзых заданий конвекции в атмосфере.\n",
    "Использованный способ вывода важный и стандартный.\n",
    "Это метод типа проекционного по системе функций или же Галёркина.\n",
    "\n",
    "Начальное задание конвекции в атмосфере описывалось дифференциальным уравнением в частных производных (д.у.ч.п.).\n",
    "Движения среду типа конвекции в плоскостях $X, Z$ описывалось системой:\n",
    "\\begin{equation}\n",
    "\\frac{\\partial}{\\partial t} \\nabla^2 \\varphi =\n",
    "-\\frac{\\partial \\left( \\psi, \\nabla^2 \\psi\\right) }{\\partial \\left( x, z\\right) } +\n",
    "v \\nabla^4+g \\alpha \\frac{\\partial \\theta}{\\partial x}\n",
    "\\end{equation}\n",
    "\\begin{equation}\n",
    "\\frac{\\partial \\theta}{\\partial t} =\n",
    "-\\frac{\\partial \\left(\\psi, \\theta\\right)}{\\partial \\left( x, y\\right)}+\n",
    "\\frac{\\Delta T}{H}\\cdot \\frac{\\partial \\psi}{\\partial x}+k\\nabla^2 \\theta,\n",
    "\\end{equation}\n",
    "где $ \\psi$ --- функция тока плоского течения, $\\theta$ --- отклонение температуры от некоторого значения.\n",
    "Верхний и нижний предел свободны.\n",
    "Функции $\\psi$ и $\\nabla^2 \\psi$ на них принимались равными нулю.\n",
    "\n",
    "Систему можно решить численно, но очень сложно, особенно если присутствует сложное движение.\n",
    "\n",
    "Поэтому для исследования было предложено представить искомое решение в виде:\n",
    "\\begin{equation}\n",
    "\\Psi =\n",
    "\\sum \\limits_{n, m = 1}^{\\infty} a_{nm} \\left( t \\right) \\cdot \\sin \\frac{\\pi \\cdot a \\cdot x \\cdot n}{H} \\cdot \\sin \\frac{\\pi \\cdot z \\cdot a \\cdot m}{H},\n",
    "\\end{equation}\n",
    "или если его перегруппировать, то в эквивалетном виде\n",
    "\\begin{equation}\n",
    "\\sum \\limits_{i=1}^{\\infty} a_i \\left( t \\right) \\cdot \\varphi_i \\left( x, z \\right),\n",
    "\\end{equation}\n",
    "где $a_i \\left( t \\right) $ --- незвестные функции времени.\n",
    "Подстановка последнего уравнения в первое приводит к появлению бесконечной систему о.д.у. относительно функций\n",
    "$a_i \\left( t \\right), i = 1, 2, 3, \\dotsc$.\n",
    "\\begin{equation}\n",
    "\\begin{cases}\n",
    "\\frac{da_1 \\left( t \\right) }{dt} = f_1 \\left( a_1, a_2, \\dotsc, a_n, \\dotsc \\right) \\\\\n",
    "\\frac{da_2 \\left( t \\right) }{dt} = f_2 \\left( a_1, a_2, \\dotsc, a_n, \\dotsc \\right) \\\\\n",
    "\\dotsc\n",
    "\\end{cases}\n",
    "\\end{equation}\n",
    "При определённых условиях последняя система эквивалентна первой системе уравнений.\n",
    "Однако её исследование всё ещё сложное (и часто пока ещё нерешаемое задание).\n",
    "\n",
    "Поэмому от последней системы переходят к так называемым малоразмерным приближениям ---\n",
    "системам обычных дифференциальных уравнений с малым числом неизвестных.\n",
    "Такой переход можно осуществлять многим числом способов.\n",
    "Классическая система Лоренца была получена отбрасыванием всех уравнений последней системы кроме трёх первых\n",
    "(так называемая процедура обрезания).\n",
    "Получается малоразмерная система (система трёх о.д.у.):\n",
    "\\begin{equation}\n",
    "\\begin{cases}\n",
    "\\frac{dx}{dt} = \\sigma \\cdot \\left( y - x \\right) \\\\\n",
    "\\frac{dy}{dt} = - x \\cdot z + r \\cdot x - y \\\\\n",
    "\\frac{dz}{dt} = x \\cdot y - b \\cdot z\n",
    "\\end{cases}\n",
    "\\end{equation}"
   ]
  },
  {
   "cell_type": "markdown",
   "metadata": {
    "collapsed": true
   },
   "source": [
    "### Задание\n",
    "#### 1\n",
    "Описать теоретическое поведение и свойства линеаризированной системы Лоренца.\n",
    "\n",
    "Пусть $\\sigma = 10, r = 28$ и\n",
    "\\begin{equation}\n",
    "b = \\frac{8}{3}.\n",
    "\\end{equation}\n",
    "Тогда система принимает вид:\n",
    "\\begin{equation}\n",
    "\\frac{dx}{dt} = -10x + 10y, \\\\\n",
    "\\frac{dy}{dt} = 28x - y - x \\cdot z, \\\\\n",
    "\\frac{dz}{dt} = -\\frac{8}{3} \\cdot z + x \\cdot y,\n",
    "\\end{equation}\n",
    "и определяет векторное поле в $\\mathbb{R}^3,$\n",
    "\\begin{equation}\n",
    "F \\left( x, y, z \\right) = \\left( -10x + 10y, 28x - y - x \\cdot z, -\\frac{8}{3} \\cdot z + x \\cdot y \\right),\n",
    "\\end{equation}\n",
    "и особое решение возникает, когда это векторное поле равно нулю.\n",
    "Таким образом, $\\left( x, y, z \\right)$ --- особое решение, если\n",
    "\\begin{equation}\n",
    "F \\left( x, y, z \\right) =\n",
    "\\left( -10x + 10y, 28x - y - x \\cdot z, -\\frac{8}{3} \\cdot z + x \\cdot y \\right) =\n",
    "\\left( 0, 0, 0 \\right).\n",
    "\\end{equation}\n",
    "\n",
    "Особые решения системы Лоренца с выбранными параметрами:\n",
    "$ \\left( 0, 0, 0 \\right), \\left( 6 \\sqrt{2}, 6\\sqrt{2}, 27 \\right)$ и $\\left( -6\\sqrt{2}, -6\\sqrt{2}, 27 \\right)$.\n",
    "\n",
    "Якобиан матрицы для системы Лоренца\n",
    "\\begin{equation}\n",
    "J \\left( x, y, z \\right) =\n",
    "\\begin{bmatrix}\n",
    "-10 & 10 & 0 \\\\\n",
    "28 - z & -1 & -x \\\\\n",
    "y & x & -\\frac{8}{3}\n",
    "\\end{bmatrix}.\n",
    "\\end{equation}\n",
    "В начале координат якобиан такой:\n",
    "\\begin{equation}\n",
    "J =\n",
    "\\begin{bmatrix}\n",
    "-10 & 10 & 0 \\\\\n",
    "28 & -1 & 0 \\\\\n",
    "0 & 0 & -\\frac{8}{3}\n",
    "\\end{bmatrix}.\n",
    "\\end{equation}\n",
    "Таким образом, линейная система, которая аппроксимирует систему Лоренца в начале координат:\n",
    "\\begin{equation}\n",
    "\\frac{dx}{dt} = 10x + 10y, \\\\\n",
    "\\frac{dy}{dy} = 28x - y, \\\\\n",
    "\\frac{dz}{dt} = -\\frac{8}{3} \\cdot z.\n",
    "\\end{equation}\n",
    "Эта система распадается на две системы:\n",
    "\\begin{equation}\n",
    "\\frac{dx}{dt} = 10x + 10y, \\\\\n",
    "\\frac{dy}{dy} = 28x - y\n",
    "\\end{equation}\n",
    "и\n",
    "\\begin{equation}\n",
    "\\frac{dz}{dt} = -\\frac{8}{3} \\cdot z.\n",
    "\\end{equation}\n",
    "Следовательно, это седловая точка в плоскости $xy$ и убывающая экспонента в направлении $z$.\n",
    "\n",
    "Теперь рассмотрим, что происходит в двух других особых решениях.\n",
    "\n",
    "Для особой точки $\\left( 6\\sqrt{2}, 6\\sqrt{2}, 27 \\right)$ имеем якобиан матрицы\n",
    "\\begin{equation}\n",
    "J =\n",
    "\\begin{bmatrix}\n",
    "-10 & 10 & 0 \\\\\n",
    "1 & -1 & -6\\sqrt{2} \\\\\n",
    "6\\sqrt{2} & 6\\sqrt{2} & -\\frac{8}{3}\n",
    "\\end{bmatrix}.\n",
    "\\end{equation}\n",
    "Собственные числа матрицы:\n",
    "$\\lambda_1 \\approx -13.8, \\lambda_2 \\approx 0.094 + 10.2 \\cdot i, \\lambda_3 \\approx 0.094 - 10.2 \\cdot i$.\n",
    "Поэтому эта особая точка --- спиральное седло, которое имеет линию решений,\n",
    "которые стремятся к особой точке с увеличением $t$, и плоскость решений,\n",
    "которые стремятся по спирали к особой точке с уменьшением $t$.\n",
    "Аналогично, особое решение $\\left( -6\\sqrt{2}, -6\\sqrt{2}, 27 \\right)$ --- это спиральное седло."
   ]
  },
  {
   "cell_type": "markdown",
   "metadata": {},
   "source": [
    "#### 2\n",
    "Численно исследовать поведение решений при изменении параметров системы.\n",
    "\n",
    "- $r < 1$ --- аттрактором является начало координат, других устойчивых точек нет.\n",
    "- $1 < r < 13.927$ --- траектории спирально приближаются (это соответствует наличию затухающих колебаний)\n",
    "к двум точкам, положение которых определяется формулами:\n",
    "\\begin{equation}\n",
    "\\begin{cases}\n",
    "x = \\pm \\sqrt{b \\cdot \\left( r - 1 \\right)}, \\\\\n",
    "y = \\pm \\sqrt{b \\cdot \\left( r - 1 \\right)}, \\\\\n",
    "z = r - 1.\n",
    "\\end{cases}\n",
    "\\end{equation}\n",
    "Эти точки определяют состояния стационарного режима конвекции,\n",
    "когда в слое формируется структура из вращающихся валов жидкости.\n",
    "- $r \\approx 13.927$ --- если траектория выходит из начала координат, то,\n",
    "совершив полный оборот вокруг одной из устойчивых точек, она вернется обратно в начальную точку ---\n",
    "возникают две гомоклинические петли.\n",
    "Понятие гомоклинической траектории означает,\n",
    "что она выходит и приходит в одно и то же положение равновесия.\n",
    "- $r > 13.927$ ---\n",
    "в зависимости от направления траектория приходит в одну из двух устойчивых точек.\n",
    "Гомоклинические петли перерождаются в неустойчивые предельные циклы,\n",
    "также возникает семейство сложно устроенных траекторий, не являющееся аттрактором, а скорее наоборот,\n",
    "отталкивающее от себя траектории.\n",
    "Иногда по аналогии эта структура называется \"странным репеллером\" (англ. to repel --- отталкивать).\n",
    "- $r \\approx 24.06$ --- траектории теперь ведут не к устойчивым точкам,\n",
    "а асимптотически приближаются к неустойчивым предельным циклам --- возникает собственно аттрактор Лоренца.\n",
    "Однако обе устойчивые точки сохраняются вплоть до значений $r \\approx 24.74$.\n",
    "\n",
    "При больших значениях параметра траектория претерпевает серьезные изменения.\n",
    "Шильников и Каплан показали, что при очень больших $r$ система переходит в режим автоколебаний, при этом,\n",
    "если уменьшать параметр, будет наблюдаться переход к хаосу через последовательность удвоений периода колебаний."
   ]
  },
  {
   "cell_type": "markdown",
   "metadata": {},
   "source": [
    "#### 3\n",
    "Численно построить одномерную бифуркационную диаграмму.\n",
    "\n",
    "В идеальном эксперименте оба направления вращения вихрей строго равновероятны,\n",
    "то есть в любой точке движение жидкости может быть направлено как в одну, так и в другую сторону.\n",
    "В фазовом пространстве $V \\left( T \\right) - \\Delta T$ это условие принимает форму бифуркационной вилки\n",
    "(pitchfork), где $\\Delta T \\sim r, V \\left( T \\right)$ --- объём фазового пространства.\n",
    "![Бифуркационная диграмма](pitchfork.png)"
   ]
  },
  {
   "cell_type": "markdown",
   "metadata": {},
   "source": [
    "#### 4\n",
    "Найти или написать программу для вычисления фрактальной размерности и применить её для разных типов поведения."
   ]
  },
  {
   "cell_type": "code",
   "execution_count": 1,
   "metadata": {
    "collapsed": true
   },
   "outputs": [],
   "source": [
    "def FractalDimension3DODE(LCE1,LCE2,LCE3):\n",
    "    # \"Close\" to zero ... we're estimating here\n",
    "    Err = 0.01\n",
    "    if LCE1 < -Err: # Stable fixed point (-,-,-)\n",
    "        return 0.0\n",
    "    elif abs(LCE1) <= Err:\n",
    "        if LCE2 < -Err:  # Limit cycle (0,-,-)\n",
    "            return 1.0\n",
    "        else: # Torus (0,0,-)\n",
    "            return 2.0\n",
    "    else: # Chaotic attractor (+,0,-)\n",
    "        return 2.0 + (LCE1+LCE2) / abs(LCE3)"
   ]
  },
  {
   "cell_type": "code",
   "execution_count": 2,
   "metadata": {},
   "outputs": [
    {
     "data": {
      "text/plain": [
       "2.7"
      ]
     },
     "execution_count": 2,
     "metadata": {},
     "output_type": "execute_result"
    }
   ],
   "source": [
    "FractalDimension3DODE(0.7, 0, -1)"
   ]
  },
  {
   "cell_type": "markdown",
   "metadata": {},
   "source": [
    "### Текст программы"
   ]
  },
  {
   "cell_type": "markdown",
   "metadata": {},
   "source": [
    "Сначала импортируем необходимые средства из `IPython, NumPy, Matplotlib` и `SciPy`."
   ]
  },
  {
   "cell_type": "code",
   "execution_count": 3,
   "metadata": {
    "collapsed": true
   },
   "outputs": [],
   "source": [
    "%matplotlib inline"
   ]
  },
  {
   "cell_type": "code",
   "execution_count": 4,
   "metadata": {
    "collapsed": true
   },
   "outputs": [],
   "source": [
    "from ipywidgets import interact, interactive\n",
    "from IPython.display import clear_output, display, HTML"
   ]
  },
  {
   "cell_type": "code",
   "execution_count": 5,
   "metadata": {
    "collapsed": true
   },
   "outputs": [],
   "source": [
    "from numpy import linspace, asarray\n",
    "from scipy import integrate\n",
    "\n",
    "from matplotlib.pyplot import figure, setp, show, cm\n",
    "from mpl_toolkits.mplot3d import Axes3D\n",
    "from matplotlib.colors import cnames\n",
    "from matplotlib import animation"
   ]
  },
  {
   "cell_type": "markdown",
   "metadata": {},
   "source": [
    "#### Вычисление траекторий и отображение результата\n",
    "Определим функцию, которая будет интегрировать дифференциальные уравнения численно, а затем отображать решения.\n",
    "Аргументы этой функции контролируют параметры дифференциальных уравнений: $\\sigma, b, r$, численного интегрирования `N, max_time` и визуализации (`angle`)."
   ]
  },
  {
   "cell_type": "markdown",
   "metadata": {},
   "source": [
    "Используя интерактивную функцию `IPython`, мы можем исследовать,\n",
    "как траетории себя ведут при изменении различных параметров."
   ]
  },
  {
   "cell_type": "code",
   "execution_count": 6,
   "metadata": {
    "collapsed": true
   },
   "outputs": [],
   "source": [
    "def solve_lorenz(x0=-0.7, y0=0.7, z0=-1, angle=0.0, max_time=10.0, sigma=20.0, beta=5.7, rho=600.0):\n",
    "\n",
    "    fig = figure()\n",
    "    ax = fig.add_axes([0, 0, 1, 1], projection='3d')\n",
    "    ax.axis('off')\n",
    "\n",
    "    def lorenz_deriv(x_y_z, t0, sigma=sigma, beta=beta, rho=rho):\n",
    "        \"\"\"Compute the time-derivative of a Lorenz system.\"\"\"\n",
    "        x, y, z = x_y_z\n",
    "        return [sigma * (y - x), x * (rho - z) - y, x * y - beta * z]\n",
    "    \n",
    "    # Solve for the trajectories\n",
    "    t = linspace(0, max_time, int(250*max_time))\n",
    "    x_t = asarray([integrate.odeint(lorenz_deriv, (x0, y0, z0), t)])\n",
    "\n",
    "    # choose a different color for each trajectory\n",
    "    colors = cm.viridis(linspace(0, 1, 1))\n",
    "\n",
    "    x, y, z = x_t[0,:,:].T\n",
    "    lines = ax.plot(x, y, z, '-')\n",
    "    setp(lines, linewidth=0.5)\n",
    "\n",
    "    ax.view_init(30, angle)\n",
    "    show()\n",
    "\n",
    "    return t, x_t"
   ]
  },
  {
   "cell_type": "code",
   "execution_count": 7,
   "metadata": {},
   "outputs": [
    {
     "name": "stderr",
     "output_type": "stream",
     "text": [
      "Widget Javascript not detected.  It may not be installed or enabled properly.\n"
     ]
    },
    {
     "data": {
      "application/vnd.jupyter.widget-view+json": {
       "model_id": "739c1e02b82441a0a38ea85fdf4470f7"
      }
     },
     "metadata": {},
     "output_type": "display_data"
    }
   ],
   "source": [
    "w = interactive(solve_lorenz, angle=(0.,360.), max_time=(0.1, 100.0),\n",
    "                N=(0,50), sigma=(0.0,50.0), rho=(0.0,600.0))\n",
    "display(w)"
   ]
  },
  {
   "cell_type": "markdown",
   "metadata": {},
   "source": [
    "### Начальные данные\n",
    "- $\\sigma = 20,\n",
    "r = 600,\n",
    "b = 5.7,\n",
    "t \\left( 0 \\right) = 0,\n",
    "t \\left( f \\right) = 10, \n",
    "x \\left( 0 \\right) = \\left( -0.7, 0.7 , -1\\right)$"
   ]
  },
  {
   "cell_type": "code",
   "execution_count": 8,
   "metadata": {},
   "outputs": [
    {
     "data": {
      "image/png": "[encoded data removed]",
      "text/plain": [
       "<matplotlib.figure.Figure at 0x7fe0ec9c2e10>"
      ]
     },
     "metadata": {},
     "output_type": "display_data"
    }
   ],
   "source": [
    "t, x_t = solve_lorenz(x0=-0.7, y0=0.7, z0=-1, max_time=10.0, sigma=20.0, beta=5.7, rho=600.0)"
   ]
  },
  {
   "cell_type": "markdown",
   "metadata": {},
   "source": [
    "- $\\sigma = 8,\n",
    "r = 28,\n",
    "b = 5/8,\n",
    "t \\left( 0 \\right) = 0,\n",
    "t \\left( f \\right) = 100, \n",
    "x \\left( 0 \\right) = \\left( -0.5, 0.7 , 0\\right)$"
   ]
  },
  {
   "cell_type": "code",
   "execution_count": 9,
   "metadata": {},
   "outputs": [
    {
     "data": {
      "image/png": "[encoded data removed]",
      "text/plain": [
       "<matplotlib.figure.Figure at 0x7fe0e9c2a190>"
      ]
     },
     "metadata": {},
     "output_type": "display_data"
    }
   ],
   "source": [
    "t, x_t = solve_lorenz(x0=-0.5, y0=0.7, z0=0, max_time=100.0, sigma=8.0, beta=5 / 8., rho=28.0)"
   ]
  },
  {
   "cell_type": "markdown",
   "metadata": {},
   "source": [
    "- $\\sigma = 8,\n",
    "r = 200,\n",
    "b = 5/8,\n",
    "t \\left( 0 \\right) = 0,\n",
    "t \\left( f \\right) = 100, \n",
    "x \\left( 0 \\right) = \\left( -0.5, 0.7 , 0\\right)$"
   ]
  },
  {
   "cell_type": "code",
   "execution_count": 10,
   "metadata": {},
   "outputs": [
    {
     "data": {
      "image/png": "[encoded data removed]",
      "text/plain": [
       "<matplotlib.figure.Figure at 0x7fe0e9b99790>"
      ]
     },
     "metadata": {},
     "output_type": "display_data"
    }
   ],
   "source": [
    "t, x_t = solve_lorenz(x0=-0.5, y0=0.7, z0=0, max_time=100.0, sigma=8.0, beta=5 / 8., rho=200.0)"
   ]
  },
  {
   "cell_type": "markdown",
   "metadata": {},
   "source": [
    "- $\\sigma = 8,\n",
    "r = 200,\n",
    "b = 5/8,\n",
    "t \\left( 0 \\right) = 0,\n",
    "t \\left( f \\right) = 10, \n",
    "x \\left( 0 \\right) = \\left( -0.5, 0.7 , 0\\right)$"
   ]
  },
  {
   "cell_type": "code",
   "execution_count": 11,
   "metadata": {},
   "outputs": [
    {
     "data": {
      "image/png": "[encoded data removed]",
      "text/plain": [
       "<matplotlib.figure.Figure at 0x7fe0eca0e210>"
      ]
     },
     "metadata": {},
     "output_type": "display_data"
    }
   ],
   "source": [
    "t, x_t = solve_lorenz(x0=-0.5, y0=0.7, z0=0, max_time=10.0, sigma=8.0, beta=5 / 8., rho=200.0)"
   ]
  },
  {
   "cell_type": "markdown",
   "metadata": {},
   "source": [
    "### Контрольные вопросы\n",
    "#### 1\n",
    "Размерность системы Лоренца. Сколько независимых параметров?\n",
    "\n",
    "Система дифференциальных уравнений Лоренца имеет размерность 3.\n",
    "Параметры системы: $\\sigma, r, b, x_0, y_0, z_0$."
   ]
  },
  {
   "cell_type": "markdown",
   "metadata": {},
   "source": [
    "#### 2\n",
    "Что такое стационарные точки в системе Лоренца, и как они зависят от параметров?\n",
    "\n",
    "В системе уравнений Лоренца возникают особые неподвижные точки,\n",
    "в которых производные динамических переменных по времени равны нулю:\n",
    "\\begin{equation}\n",
    "\\frac{dx}{dt} = 0 = -\\sigma \\cdot x + \\sigma \\cdot y \\Rightarrow x = y, \\\\\n",
    "\\frac{dy}{dt} = 0 = r \\cdot x - y - x \\cdot z = x \\cdot \\left( r - z \\right) - y, \\\\\n",
    "\\frac{dz}{dt} = 0 = -b \\cdot t + x \\cdot y \\Rightarrow x \\cdot y = b \\cdot t.\n",
    "\\end{equation}\n",
    "Имеем систему уравнений для отыскания стационарных точек:\n",
    "\\begin{equation}\n",
    "\\begin{cases}\n",
    "y = \\frac{b \\cdot t}{x}, \\\\\n",
    "x = y, \\\\\n",
    "y = x \\cdot \\left( r - z \\right).\n",
    "\\end{cases}\n",
    "\\end{equation}\n",
    "Особые точки: $\\left( 0, 0, 0 \\right), \\left( \\pm \\sqrt{b \\cdot \\left( r - 1 \\right)}, \\pm \\sqrt{b \\cdot \\left( r - 1 \\right)}, r - 1 \\right)$"
   ]
  },
  {
   "cell_type": "markdown",
   "metadata": {},
   "source": [
    "#### 3\n",
    "Какие решения возможны в системе Лоренца?\n",
    "С ростом параметра $r$ увеличивается размах осцилляции.\n",
    "Однако начиная со значения $r = 13.927$\n",
    "в фазовом пространстве системы Лоренца происходит перестройка при сохранении двух центров притяжения ---\n",
    "аттракторов $O_1$ и $O_2$.\n",
    "Следующая перестройка происходит при $r = 24.06$.\n",
    "С этого момента наряду с устойчивыми состояниями $O_1$ и $O_2$ возникает притягивающее множество сложной структуры,\n",
    "которое отвечает хаотическому режиму колебаний.\n",
    "Особые точки $O_1$ и $O_2$ остаются устойчивыми до достижения значения $r_{\\infty} = 24.74$.\n",
    "\n",
    "Таким образом, в интервале $r$ от $24.06$ до $24.74$ в системе существует три аттрактора ---\n",
    "две неподвижные точки $O_1$ и $O_2$ и странный аттрактор.\n",
    "Начиная с $r_{\\infty } = 24.74$ неподвижные точки $O_1$ и $O_2$ теряют устойчивость,\n",
    "и остаётся единственное притягивающее множество --- странный аттрактор Лоренца.\n",
    "\n",
    "Характер движения системы при $r > r_{\\infty }$ коренным образом изменяется:\n",
    "движение системы становится крайне непредсказуемым.\n",
    "Траектория системы раскручиваясь по спирали в окрестности одной из неподвижных точек ($O_1$ или $O_2$)\n",
    "в течение произвольного отрезка времени,\n",
    "перепрыгивает в окрестность второй неподвижной точки и таким же образом некоторое время раскручивается по спирали,\n",
    "а затем перепрыгивает назад и так далее.\n",
    "\n",
    "При $r > r_{\\infty }$ появляется также чередование режимов хаотического и периодического поведения.\n",
    "Странный аттрактор превращается в предельный цикл,\n",
    "который сохраняется на некотором интервале изменения параметра $r$,\n",
    "а затем опять превращается в странный аттрактор."
   ]
  },
  {
   "cell_type": "markdown",
   "metadata": {},
   "source": [
    "#### 4\n",
    "Что такое бифуркация решений?\n",
    "Что такое аттрактор (притягивающее множество в системе).\n",
    "Приведите примеры.\n",
    "Какие аттракторы бывают в системе Лоренца?\n",
    "Что такое странный аттрактор?\n",
    "\n",
    "Бифуркация ---\n",
    "это качественное изменение поведения динамической системы при бесконечно малом изменении её параметров.\n",
    "\n",
    "Аттрактор (англ. attract --- привлекать, притягивать) ---\n",
    "компактное подмножество фазового пространства динамической системы,\n",
    "все траектории из некоторой окрестности которого стремятся к нему при времени, стремящемся к бесконечности.\n",
    "\n",
    "Аттрактором может являться притягивающая неподвижная точка (к примеру, в задаче о маятнике с трением о воздух),\n",
    "периодическая траектория (пример --- самовозбуждающиеся колебания в контуре с положительной обратной связью),\n",
    "или некоторая ограниченная область с неустойчивыми траекториями внутри (как у странного аттрактора).\n",
    "\n",
    "В системе Лоренца есть 3 аттрактора: 2 устойчивых фокуса и странный аттрактор.\n",
    "\n",
    "Странный аттрактор ---\n",
    "это притягивающее множество неустойчивых траекторий в фазовом пространстве диссипативной динамической системы.\n",
    "В отличие от аттрактора, не является многообразием, то есть не является кривой или поверхностью.\n",
    "Структура странного аттрактора фрактальна.\n",
    "Траектория такого аттрактора непериодическая (она не замыкается) и режим функционирования неустойчив\n",
    "(малые отклонения от режима нарастают)."
   ]
  },
  {
   "cell_type": "markdown",
   "metadata": {},
   "source": [
    "#### 5\n",
    "Что такое фрактальное множество и фрактальная размерность?\n",
    "Какие вы знаете критерии хаотического поведения?\n",
    "Что такое показатели Ляпунова, спектр мощности, сложность траектории?\n",
    "\n",
    "Фрактал (лат. fractus --- дроблёный, сломанный, разбитый) --- множество, обладающее свойством самоподобия (объект,\n",
    "в точности или приближённо совпадающий с частью себя самого, то есть целое имеет ту же форму,\n",
    "что и одна или более частей).\n",
    "Фрактальная размарность (англ. fractal dimension) ---\n",
    "один из способов определения размерности множества в метрическом пространстве.\n",
    "Фрактальную размерность $n$-мерного множества можно определить с помощью формулы:\n",
    "\\begin{equation}\n",
    "D = -\\lim \\limits_{\\varepsilon \\to 0} \\frac{ln \\left( N_{\\varepsilon} \\right)}{ln \\left( \\varepsilon \\right)},\n",
    "\\end{equation}\n",
    "где $N_{\\varepsilon}$ --- минимальное число $n$-мерных \"шаров\" радиуса $\\varepsilon$,\n",
    "необходимых для покрытия множества.\n",
    "\n",
    "Хаос может быть трудно наблюдаем по следующим причинам:\n",
    "1) является слабым;\n",
    "2) является медленным (наблюдается при больших $\\Delta t$);\n",
    "3) находится в узком изменении параметров системы.\n",
    "\n",
    "Систему называют локально неустойчивой, если существует хотя бы одно направление в фазовом пространстве, для которого выполняется соотношение\n",
    "$\\delta \\left( t \\right) = \\Delta \\left( 0 \\right) \\cdot \\exp \\left\\{ \\sigma \\cdot t \\right\\}, \\sigma > 0$ ---\n",
    "показатель Ляпунова --- экспоненциальное движение по Ляпунову.\n",
    "Спектром мощности $S_k \\left( \\omega \\right)$ (или спектральной плотностью перемешивания)\n",
    "$x_k \\left( t \\right)$ называется Фурье-образ автокорреляционной функции, то есть\n",
    "\\begin{equation}\n",
    "S_k \\left( \\omega \\right) =\n",
    "\\frac{1}{2 \\pi} \\int \\limits_{-\\infty}^{+\\infty} B_k \\left( \\tau \\right) \\cdot e^{i \\cdot \\omega \\cdot t} d \\tau.\n",
    "\\end{equation}"
   ]
  },
  {
   "cell_type": "markdown",
   "metadata": {},
   "source": [
    "#### 6\n",
    "Что такое плоскость Пуанкаре, и как по рисунку на ней можно получить информацию про поведение решения?\n",
    "\n",
    "Секущей поверхностью (или сечением Пуанкаре) называется поверхность без контакта,\n",
    "которая вновь и вновь пересекается фазовой траекторией через конечные промежутки времени.\n",
    "Фазовая траектория системы порождает на секущей поверхности $S$ некоторое непрерывное точечное отображение\n",
    "$\\hat{T}$,\n",
    "которое любой точке $C_n$ пересечения траекторией поверхности $S$ ставит в соответствие ближайшую к ней точку\n",
    "$C_{n+1}$.\n",
    "Такая последовательность точек и является источником отображения $\\hat{T}: \\vec{x}_{n+1} = \\hat{T} \\vec{x}_n$.\n",
    "Структура динамической системы взаимно-однозначно определяется структурой порождаемого ею точечного отображения."
   ]
  },
  {
   "cell_type": "markdown",
   "metadata": {},
   "source": [
    "#### 7\n",
    "Возможно ли хаотическое поведение в 3-мерной линейной системе?\n",
    "А в кусочно-линейной?\n",
    "\n",
    "Линейные системы никогда не бывают хаотическими.\n",
    "Для того, чтобы динамическая система была хаотической, она должна быть нелинейной.\n",
    "Однако дискретная динамическая система на какой-то стадии может проявить хаотическое поведение даже в одномерном или двумерном пространстве."
   ]
  },
  {
   "cell_type": "markdown",
   "metadata": {},
   "source": [
    "#### 8\n",
    "Что такое одномерная бифуркационная диаграмма?\n",
    "Какая последовательность бифуркаций в системе Лоренца, и при изменении какого параметра она происходит?\n",
    "\n",
    "Под понятием бифуркационная диаграмма подразумевают изображение на рисунке смены возможных динамических режимов\n",
    "системы (равновесных состояний, стационарных точек, периодических орбит и пр.)\n",
    "при изменении значения бифуркационного параметра.\n",
    "\n",
    "В точке $r = 1$ происходит первая бифуркация в модели Лоренца.\n",
    "В области $0 < r < 1$ все траектории притягиваются к началу координат.\n",
    "Все траектории образуют устойчивое многообразие начала координат.\n",
    "При $r = 1$ ответвляются два устойчивых положения равновесия.\n",
    "Появляется неустойчивое многообразие начала координат.\n",
    "С дальшейшим ростом $r$ два собственных значения $\\lambda$ становятся комплексно сопряжёнными.\n",
    "Им соответствует две спирали.\n",
    "Дальшейший рост $r$ приводит у увеличению диаметра спиралей, пока они не коснутся друг друга.\n",
    "Это происходит при $r \\approx 13.926$.\n",
    "В результате этой бифуркации образуется гомоклиническая траектория.\n",
    "При $r > 13.926$ происходят ещё некоторые бифуркации и появляются квазистохастические траектории.\n",
    "Дальше бифуркация происходит при $r \\approx 24.74$.\n",
    "Две устойчивые точки в центрах спиралей превращаются в неустойчивые."
   ]
  },
  {
   "cell_type": "markdown",
   "metadata": {},
   "source": [
    "#### 9\n",
    "Какой основной механизм динамического хаоса?\n",
    "Чем хаос отличается от стохастического процесса?\n",
    "Что такое аттрактор типа \"бабочка\"?\n",
    "\n",
    "Исследование нелинейных динамических систем показало, что у них возможны такие режимы движения, которые обладают всеми свойствами хаотического движения, и в то же время не являются следствием каких-либо случайных факторов, а полностью определяются начальными условиями (в рамках теоремы Коши).\n",
    "Это парадоксальное явление получило название детерминированного динамического хаоса.\n",
    "\n",
    "Случайный (стохастический) процесс --- это процесс, поведение которого не является детерминированным,\n",
    "и последующее состояние такой системы описывается как величинами, которые могут быть предсказаны, так и случайными.\n",
    "\n",
    "Траектории, начинающиеся с большого количества различных начальных условий,\n",
    "все через некоторое время накапливаются на одном объекте в форме бабочки, известном как аттрактор Лоренца."
   ]
  }
 ],
 "metadata": {
  "kernelspec": {
   "display_name": "Python 2",
   "language": "python",
   "name": "python2"
  },
  "language_info": {
   "codemirror_mode": {
    "name": "ipython",
    "version": 2
   },
   "file_extension": ".py",
   "mimetype": "text/x-python",
   "name": "python",
   "nbconvert_exporter": "python",
   "pygments_lexer": "ipython2",
   "version": "2.7.13"
  }
 },
 "nbformat": 4,
 "nbformat_minor": 2
}
