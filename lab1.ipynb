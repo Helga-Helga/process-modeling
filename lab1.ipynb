{
 "cells": [
  {
   "cell_type": "markdown",
   "metadata": {
    "collapsed": true
   },
   "source": [
    "# Лабораторная работа №1"
   ]
  },
  {
   "cell_type": "markdown",
   "metadata": {
    "collapsed": true
   },
   "source": [
    "## Решение задачи Кеплера и исследование траектории движения тела в фазовом пространстве"
   ]
  },
  {
   "cell_type": "markdown",
   "metadata": {},
   "source": [
    "### Цель работы\n",
    "Решить систему обычных дифференциальных уравнений (задача Кеплера),\n",
    "начертить график траектории движения тела в потенциальном поле."
   ]
  },
  {
   "cell_type": "markdown",
   "metadata": {},
   "source": [
    "### Ключевые понятия\n",
    "Задача Кеплера (Kepler problem), фазовое пространство (phase space)"
   ]
  },
  {
   "cell_type": "markdown",
   "metadata": {},
   "source": [
    "### Теоретические основы"
   ]
  },
  {
   "cell_type": "markdown",
   "metadata": {},
   "source": [
    "Рассматривается тело массы $m$, которое движется вокруг тела массы $M$ под действием гравитационной силы.\n",
    "Исходя из закона всемирного тяготения, мы можем записать уравнение движения в виде:\n",
    "$$m \\cdot \\frac{d^2 r}{dt^2} = -\\frac{mGM}{r^3},$$\n",
    "где $r$ -- вектор, направленный от тела массы $M$ до тела массы $m$, а $G$ -- это постоянная тяготения,\n",
    "которая равна $G = 6.67 \\cdot 10^{-11}$ м$^3/$кг$\\cdot c^2$.\n",
    "В плоскости движения $\\left( x - y \\right) $, если разместить начало координат в точке нахождения тела массы $M$,\n",
    "уравнение можно представить в виде системы:\n",
    "$$\\begin{cases}\n",
    "\\frac{d^2 x}{dt^2} = -\\frac{GM}{r^3} \\cdot x, \\\\\n",
    "\\frac{d^2 y}{dt^2} = -\\frac{GM}{r^3} \\cdot y,\n",
    "\\end{cases}$$\n",
    "где $r^2 = x^2 + y^2$.\n",
    "При заданных начальных условиях $x_0, y_0, \\dot{x}_0, \\dot{y}_0$ и при $t = 0$ траектория движения тела массы $m$\n",
    "полностью определеяется системой."
   ]
  },
  {
   "cell_type": "markdown",
   "metadata": {},
   "source": [
    "Это пара связанных уравнений второго порядка.\n",
    "Чтобы решить эту систему с помощью `SciPy`,\n",
    "мы должны сначала преобразовать её в систему дифференциальных уравнений первого порядка.\n",
    "Введём две переменные: $y_1 = x_1', y_2 = x_2'$.\n",
    "\n",
    "Мы можем переписать два уравнения второго порядка в виде следующей системы четырёх уравнений первого порядка:\n",
    "$$\\begin{cases}\n",
    "x_1' = y_1, \\\\\n",
    "x_2' = y_2, \\\\\n",
    "y_1' = -\\frac{GM}{\\left( x_1^2 + x_2^2 \\right)^{\\frac{3}{2}}} \\cdot x_1, \\\\\n",
    "y_2' = -\\frac{GM}{\\left( x_1^2 + x_2^2 \\right)^{\\frac{3}{2}}} \\cdot x_2.\n",
    "\\end{cases}$$\n",
    "Эти уравнения сейчас имеют такую форму, которую мы можем реализовать в `Python`.\n",
    "\n",
    "Следующий код определяет правую часть системы уравнений (также называемую векторным полем).\n",
    "Аргументы функции `vectorfield` сконфигурированы для использования в функции `odeint`: время $t$ --\n",
    "это второй аргумент."
   ]
  },
  {
   "cell_type": "code",
   "execution_count": 1,
   "metadata": {
    "collapsed": true
   },
   "outputs": [],
   "source": [
    "def vectorfield(w, t, p):\n",
    "    \"\"\"\n",
    "    Defines the differential equations for Kepler problem.\n",
    "    \n",
    "    Arguments:\n",
    "        w : vectorof the state variables:\n",
    "            w = [x1, y1, x2, y2]\n",
    "        t : time\n",
    "        p : vector of parameters:\n",
    "            p = [G, M]\n",
    "    \"\"\"\n",
    "    x1, y1, x2, y2 = w\n",
    "    G, M = p\n",
    "    #Create f = (x1', y1', x2', y2'):\n",
    "    f = [y1, \n",
    "        -G * M * x1 / (x1 ** 2 + x2 ** 2) ** (1.5),\n",
    "        y2,\n",
    "        -G * M * x2 / (x1 ** 2 + x2 ** 2) ** (1.5)]\n",
    "    return f"
   ]
  },
  {
   "cell_type": "markdown",
   "metadata": {},
   "source": [
    "Далее -- код, который использует `odeint`, чтобы решить уравнения для заданного набора значений параметров,\n",
    "начальных состояний и временного интервала."
   ]
  },
  {
   "cell_type": "code",
   "execution_count": 2,
   "metadata": {
    "collapsed": true
   },
   "outputs": [],
   "source": [
    "\"\"\" Use ODEINT to solve the differential equations defined by the vector field \"\"\"\n",
    "from scipy.integrate import odeint\n",
    "# Parameter values\n",
    "# Gravitational constant:\n",
    "G = 6.67 * 10 ** (-11)\n",
    "# Mass:\n",
    "M = 6 * 10 ** 24\n",
    "\n",
    "# Initial conditions\n",
    "# x and y are the initial displacements; x1 and y1 are the initial velocities\n",
    "x1 = -10 ** 6\n",
    "x2 = -10 ** 8\n",
    "y1 = 0\n",
    "y2 = 10 ** 9\n",
    "\n",
    "# ODE solver parameters\n",
    "stoptime = 100.0\n",
    "numpoints = 10\n",
    "\n",
    "# Create the time samples for the output of the ODE solver.\n",
    "# I use a large number of points, only because I want to make\n",
    "# a plot of the solution that looks nice.\n",
    "t = [stoptime * float(i) / (numpoints - 1) for i in range(numpoints)]\n",
    "\n",
    "# Pack up the parameters and initial conditions:\n",
    "p = [G, M]\n",
    "w0 = [x1, y1, x2, y2]\n",
    "\n",
    "# Call the ODE solver.\n",
    "wsol = odeint(vectorfield, w0, t, args=(p,))"
   ]
  },
  {
   "cell_type": "code",
   "execution_count": 3,
   "metadata": {},
   "outputs": [
    {
     "data": {
      "text/html": [
       "<div>\n",
       "<style>\n",
       "    .dataframe thead tr:only-child th {\n",
       "        text-align: right;\n",
       "    }\n",
       "\n",
       "    .dataframe thead th {\n",
       "        text-align: left;\n",
       "    }\n",
       "\n",
       "    .dataframe tbody tr th {\n",
       "        vertical-align: top;\n",
       "    }\n",
       "</style>\n",
       "<table border=\"1\" class=\"dataframe\">\n",
       "  <thead>\n",
       "    <tr style=\"text-align: right;\">\n",
       "      <th></th>\n",
       "      <th>x</th>\n",
       "      <th>dx/dt</th>\n",
       "      <th>y</th>\n",
       "      <th>dy/dt</th>\n",
       "      <th>t</th>\n",
       "    </tr>\n",
       "  </thead>\n",
       "  <tbody>\n",
       "    <tr>\n",
       "      <th>0</th>\n",
       "      <td>-1000000.000000</td>\n",
       "      <td>0.000000</td>\n",
       "      <td>-1.000000e+08</td>\n",
       "      <td>1.000000e+09</td>\n",
       "      <td>0.000000</td>\n",
       "    </tr>\n",
       "    <tr>\n",
       "      <th>1</th>\n",
       "      <td>-999991.186920</td>\n",
       "      <td>0.800381</td>\n",
       "      <td>1.101111e+10</td>\n",
       "      <td>1.000000e+09</td>\n",
       "      <td>11.111111</td>\n",
       "    </tr>\n",
       "    <tr>\n",
       "      <th>2</th>\n",
       "      <td>-999982.293798</td>\n",
       "      <td>0.800381</td>\n",
       "      <td>2.212222e+10</td>\n",
       "      <td>1.000000e+09</td>\n",
       "      <td>22.222222</td>\n",
       "    </tr>\n",
       "    <tr>\n",
       "      <th>3</th>\n",
       "      <td>-999973.400676</td>\n",
       "      <td>0.800381</td>\n",
       "      <td>3.323333e+10</td>\n",
       "      <td>1.000000e+09</td>\n",
       "      <td>33.333333</td>\n",
       "    </tr>\n",
       "    <tr>\n",
       "      <th>4</th>\n",
       "      <td>-999964.507554</td>\n",
       "      <td>0.800381</td>\n",
       "      <td>4.434444e+10</td>\n",
       "      <td>1.000000e+09</td>\n",
       "      <td>44.444444</td>\n",
       "    </tr>\n",
       "    <tr>\n",
       "      <th>5</th>\n",
       "      <td>-999955.614432</td>\n",
       "      <td>0.800381</td>\n",
       "      <td>5.545556e+10</td>\n",
       "      <td>1.000000e+09</td>\n",
       "      <td>55.555556</td>\n",
       "    </tr>\n",
       "    <tr>\n",
       "      <th>6</th>\n",
       "      <td>-999946.721310</td>\n",
       "      <td>0.800381</td>\n",
       "      <td>6.656667e+10</td>\n",
       "      <td>1.000000e+09</td>\n",
       "      <td>66.666667</td>\n",
       "    </tr>\n",
       "    <tr>\n",
       "      <th>7</th>\n",
       "      <td>-999937.828188</td>\n",
       "      <td>0.800381</td>\n",
       "      <td>7.767778e+10</td>\n",
       "      <td>1.000000e+09</td>\n",
       "      <td>77.777778</td>\n",
       "    </tr>\n",
       "    <tr>\n",
       "      <th>8</th>\n",
       "      <td>-999928.935066</td>\n",
       "      <td>0.800381</td>\n",
       "      <td>8.878889e+10</td>\n",
       "      <td>1.000000e+09</td>\n",
       "      <td>88.888889</td>\n",
       "    </tr>\n",
       "    <tr>\n",
       "      <th>9</th>\n",
       "      <td>-999920.041943</td>\n",
       "      <td>0.800381</td>\n",
       "      <td>9.990000e+10</td>\n",
       "      <td>1.000000e+09</td>\n",
       "      <td>100.000000</td>\n",
       "    </tr>\n",
       "  </tbody>\n",
       "</table>\n",
       "</div>"
      ],
      "text/plain": [
       "                x     dx/dt             y         dy/dt           t\n",
       "0 -1000000.000000  0.000000 -1.000000e+08  1.000000e+09    0.000000\n",
       "1  -999991.186920  0.800381  1.101111e+10  1.000000e+09   11.111111\n",
       "2  -999982.293798  0.800381  2.212222e+10  1.000000e+09   22.222222\n",
       "3  -999973.400676  0.800381  3.323333e+10  1.000000e+09   33.333333\n",
       "4  -999964.507554  0.800381  4.434444e+10  1.000000e+09   44.444444\n",
       "5  -999955.614432  0.800381  5.545556e+10  1.000000e+09   55.555556\n",
       "6  -999946.721310  0.800381  6.656667e+10  1.000000e+09   66.666667\n",
       "7  -999937.828188  0.800381  7.767778e+10  1.000000e+09   77.777778\n",
       "8  -999928.935066  0.800381  8.878889e+10  1.000000e+09   88.888889\n",
       "9  -999920.041943  0.800381  9.990000e+10  1.000000e+09  100.000000"
      ]
     },
     "execution_count": 3,
     "metadata": {},
     "output_type": "execute_result"
    }
   ],
   "source": [
    "from pandas import DataFrame\n",
    "result = DataFrame(wsol, columns=['x', 'dx/dt', 'y', 'dy/dt'])\n",
    "result['t'] = t\n",
    "result"
   ]
  },
  {
   "cell_type": "markdown",
   "metadata": {},
   "source": [
    "Следующий код использует `Matplotlib`, чтобы изобразить решение."
   ]
  },
  {
   "cell_type": "code",
   "execution_count": 4,
   "metadata": {
    "scrolled": true
   },
   "outputs": [
    {
     "data": {
      "image/png": "[encoded data removed]",
      "text/plain": [
       "<matplotlib.figure.Figure at 0x7fb81ee14bd0>"
      ]
     },
     "metadata": {},
     "output_type": "display_data"
    }
   ],
   "source": [
    "\"\"\"Plot the solution\"\"\"\n",
    "from matplotlib.pyplot import subplot, plot, figure, show\n",
    "\n",
    "f = figure(figsize=(10,10))\n",
    "\n",
    "ax = f.add_subplot(211)\n",
    "ax2 = f.add_subplot(212)\n",
    "\n",
    "ax.plot(wsol[:,0], wsol[:,2])\n",
    "ax2.plot(wsol[:,1], wsol[:,3])\n",
    "\n",
    "ax.set_xlabel('x')\n",
    "ax.set_ylabel('y')\n",
    "ax2.set_xlabel('dx/dt')\n",
    "ax2.set_ylabel('dy/dt')\n",
    "\n",
    "show()"
   ]
  },
  {
   "cell_type": "markdown",
   "metadata": {},
   "source": [
    "### Контрольные вопросы\n",
    "#### 1\n",
    "Какую физическую систему описывает задание Кеплера?\n",
    "Из каких принципов выволилась система уравнений?\n",
    "Система линейная или нелинейная и какого порядка?\n",
    "\n",
    "*Ответ: Задание Кеплера описывает движение тела массы $m$,\n",
    "которое движется вокруг тела массы $M$ под действием гравитационной силы.\n",
    "Для вывода системы уравнений был использован закон всемирного тяготения.\n",
    "Начало координат разместили в точке нахождения тела массы $M$.\n",
    "Получили нелинейную систему второго порядка.*"
   ]
  },
  {
   "cell_type": "markdown",
   "metadata": {},
   "source": [
    "#### 2\n",
    "Какое фазовое пространство системы?\n",
    "Что такое проекции фазового пространства в данном задании?\n",
    "\n",
    "*Ответ: Фазовое пространство системы -- плоскость $x-y$.\n",
    "Проекции фазового пространства в данном задании -- ось $x$ и ось $y$.*"
   ]
  },
  {
   "cell_type": "markdown",
   "metadata": {},
   "source": [
    "#### 3\n",
    "Как вы реализовали решение систем О.Д.У. (каким методом)?\n",
    "\n",
    "*Ответ: Решение системы О.Д.У. реализовано с помощью функции `odeint`.*"
   ]
  },
  {
   "cell_type": "markdown",
   "metadata": {},
   "source": [
    "#### 4\n",
    "Какая теоретическая и практическая точность используемого метода?\n",
    "Какие шаги реализовуются в ваших расчётах?\n",
    "\n",
    "*Ответ*: По умолчанию значение точности в `odeint` установлено $1.49012 * 10^{-8}$.\n",
    "В функции `vectorfield` реализован расчёт правой части системы уравнений.\n",
    "Далее происходит интегрирование системы функцией `odeint`.\n",
    "Для этого заданы параметры (константы), начальные данные и дискретизировано время."
   ]
  },
  {
   "cell_type": "markdown",
   "metadata": {},
   "source": [
    "#### 5\n",
    "Какие стационарные точки имеет система Кеплера?\n",
    "\n",
    "*Ответ: $x_1, x_2, y_1, y_2 = 0$.*"
   ]
  },
  {
   "cell_type": "markdown",
   "metadata": {},
   "source": [
    "#### 6\n",
    "От какого количества параметров зависит решение данной физической задачи?\n",
    "\n",
    "*Ответ: решение данной физическо задачи зависит от четырёх начальных значений и двух параметров (констант).*"
   ]
  },
  {
   "cell_type": "markdown",
   "metadata": {},
   "source": [
    "#### 7\n",
    "К каким эффектам приводит смена начальных условий?\n",
    "\n",
    "*Ответ: смена начальных условий приводит к изменению решения.*"
   ]
  },
  {
   "cell_type": "markdown",
   "metadata": {},
   "source": [
    "#### 8\n",
    "Какое движение получается исходя из рисунков?\n",
    "\n",
    "*Ответ: Движение поступательное с вращательной компонентой.*"
   ]
  },
  {
   "cell_type": "markdown",
   "metadata": {},
   "source": [
    "#### 9\n",
    "Как зависит движение от времени?"
   ]
  },
  {
   "cell_type": "code",
   "execution_count": 5,
   "metadata": {},
   "outputs": [
    {
     "data": {
      "image/png": "[encoded data removed]",
      "text/plain": [
       "<matplotlib.figure.Figure at 0x7fb81ee14a10>"
      ]
     },
     "metadata": {},
     "output_type": "display_data"
    }
   ],
   "source": [
    "f = figure(figsize=(10,10))\n",
    "\n",
    "ax = f.add_subplot(211)\n",
    "ax2 = f.add_subplot(212)\n",
    "\n",
    "ax.plot(t, wsol[:,0])\n",
    "ax2.plot(t, wsol[:,2])\n",
    "\n",
    "ax.set_xlabel('t')\n",
    "ax.set_ylabel('x')\n",
    "ax2.set_xlabel('t')\n",
    "ax2.set_ylabel('y')\n",
    "\n",
    "show()"
   ]
  },
  {
   "cell_type": "markdown",
   "metadata": {},
   "source": [
    "*Ответ: движение вдоль оси $x$ прямолинейное, вдоль оси $y$ -- по параболе.*"
   ]
  }
 ],
 "metadata": {
  "kernelspec": {
   "display_name": "Python 2",
   "language": "python",
   "name": "python2"
  },
  "language_info": {
   "codemirror_mode": {
    "name": "ipython",
    "version": 2
   },
   "file_extension": ".py",
   "mimetype": "text/x-python",
   "name": "python",
   "nbconvert_exporter": "python",
   "pygments_lexer": "ipython2",
   "version": "2.7.13"
  }
 },
 "nbformat": 4,
 "nbformat_minor": 2
}
