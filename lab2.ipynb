{
 "cells": [
  {
   "cell_type": "markdown",
   "metadata": {},
   "source": [
    "# Лабораторная работа №2"
   ]
  },
  {
   "cell_type": "markdown",
   "metadata": {},
   "source": [
    "## Исследование характера движения линейного и нелинейного осциллятора под действием периодической силы"
   ]
  },
  {
   "cell_type": "markdown",
   "metadata": {},
   "source": [
    "### Цель работы\n",
    "Исследовать моделирование характера движения линейного и нелинейного осциллятора под действием силы."
   ]
  },
  {
   "cell_type": "markdown",
   "metadata": {},
   "source": [
    "### Ключевые понятия\n",
    "Математический осциллятор (mathematical oscillator); периодические колебания (periodic oscillations);\n",
    "артефакты в приближённых решениях (artefacts in numerical solutions); резонанс (resonanse);\n",
    "точность вычислительных методов (accuracy of numerical methods)"
   ]
  },
  {
   "cell_type": "markdown",
   "metadata": {},
   "source": [
    "### Теоретические основы\n",
    "Движение системы с одной степенью\n",
    "свободы вблизи положения равновесия можно представить в виде модели гармонического осциллятора:\n",
    "\\begin{equation*}\n",
    "\\frac{d^2 x}{dt^2} + \\lambda \\cdot \\frac{dx}{dt} + \\omega^2 \\cdot x = 0.\n",
    "\\end{equation*}\n",
    "Рассмотрим движение маятника с точкой подвеса, который движется вертикально.\n",
    "При существовании периодической силы $f_0 = A \\cdot \\cos \\left( \\beta \\cdot t \\right)$\n",
    "уравнение движения принимает вид:\n",
    "\\begin{equation*}\n",
    "\\frac{d^2 x}{dt^2} + \\lambda \\cdot \\frac{dx}{dt} + \\left( \\omega^2 + f_0 \\right) \\cdot x = 0.\n",
    "\\end{equation*}\n",
    "Уравнение нелинейного маятника с учётом трения и периодической силы записывается в виде:\n",
    "\\begin{equation*}\n",
    "\\frac{d^2 x}{dt^2} + \\lambda \\cdot \\frac{dx}{dt} + \\left( \\omega^2 + f_0 \\right) \\cdot \\sin \\, x = 0.\n",
    "\\end{equation*}"
   ]
  },
  {
   "cell_type": "markdown",
   "metadata": {},
   "source": [
    "Чтобы решить это уравнение аналитически, будем использовать `sympy`.\n",
    "`Sympy` предоставляет модуль `ODE` (обыкновенных дифференциальных уравнений) для таких задач."
   ]
  },
  {
   "cell_type": "code",
   "execution_count": 1,
   "metadata": {
    "collapsed": true
   },
   "outputs": [],
   "source": [
    "from sympy import init_printing, symbols, exp, Function, dsolve, Derivative, Eq, solve, simplify, plot, sqrt, I\n",
    "from sympy.plotting import plot_parametric"
   ]
  },
  {
   "cell_type": "code",
   "execution_count": 2,
   "metadata": {
    "collapsed": true
   },
   "outputs": [],
   "source": [
    "init_printing()"
   ]
  },
  {
   "cell_type": "markdown",
   "metadata": {},
   "source": [
    "Вначале определим наши символы и функцию:"
   ]
  },
  {
   "cell_type": "code",
   "execution_count": 3,
   "metadata": {
    "collapsed": true
   },
   "outputs": [],
   "source": [
    "l, w, f_0, x_0, v_0, t = symbols('l, w, f_0, x_0, v_0, t')\n",
    "x = Function('x')"
   ]
  },
  {
   "cell_type": "markdown",
   "metadata": {},
   "source": [
    "Можем использовать `dsolve`, которая работает с дифференциальными уравнениями:"
   ]
  },
  {
   "cell_type": "code",
   "execution_count": 4,
   "metadata": {},
   "outputs": [
    {
     "data": {
      "image/png": "[encoded data removed]",
      "text/latex": [
       "$$x{\\left (t \\right )} = C_{1} e^{\\frac{t}{2} \\left(- l - \\sqrt{l^{2} - 4 w^{2}}\\right)} + C_{2} e^{\\frac{t}{2} \\left(- l + \\sqrt{l^{2} - 4 w^{2}}\\right)}$$"
      ],
      "text/plain": [
       "             ⎛        ___________⎞         ⎛        ___________⎞\n",
       "             ⎜       ╱  2      2 ⎟         ⎜       ╱  2      2 ⎟\n",
       "           t⋅⎝-l - ╲╱  l  - 4⋅w  ⎠       t⋅⎝-l + ╲╱  l  - 4⋅w  ⎠\n",
       "           ───────────────────────       ───────────────────────\n",
       "                      2                             2           \n",
       "x(t) = C₁⋅ℯ                        + C₂⋅ℯ                       "
      ]
     },
     "execution_count": 4,
     "metadata": {},
     "output_type": "execute_result"
    }
   ],
   "source": [
    "sol = dsolve(Derivative(x(t), t, 2) + l * Derivative(x(t), t, 1) + w ** 2 * x(t))\n",
    "sol"
   ]
  },
  {
   "cell_type": "markdown",
   "metadata": {},
   "source": [
    "Определим начальные условия:"
   ]
  },
  {
   "cell_type": "code",
   "execution_count": 5,
   "metadata": {},
   "outputs": [
    {
     "data": {
      "image/png": "[encoded data removed]",
      "text/latex": [
       "$$\\left [ C_{1} + C_{2} = x_{0}, \\quad C_{1} \\left(- \\frac{l}{2} - \\frac{1}{2} \\sqrt{l^{2} - 4 w^{2}}\\right) + C_{2} \\left(- \\frac{l}{2} + \\frac{1}{2} \\sqrt{l^{2} - 4 w^{2}}\\right) = v_{0}\\right ]$$"
      ],
      "text/plain": [
       "⎡                 ⎛         ___________⎞      ⎛         ___________⎞     ⎤\n",
       "⎢                 ⎜        ╱  2      2 ⎟      ⎜        ╱  2      2 ⎟     ⎥\n",
       "⎢                 ⎜  l   ╲╱  l  - 4⋅w  ⎟      ⎜  l   ╲╱  l  - 4⋅w  ⎟     ⎥\n",
       "⎢C₁ + C₂ = x₀, C₁⋅⎜- ─ - ──────────────⎟ + C₂⋅⎜- ─ + ──────────────⎟ = v₀⎥\n",
       "⎣                 ⎝  2         2       ⎠      ⎝  2         2       ⎠     ⎦"
      ]
     },
     "execution_count": 5,
     "metadata": {},
     "output_type": "execute_result"
    }
   ],
   "source": [
    "ics = [Eq(sol.args[1].subs(t, 0), x_0), Eq(sol.args[1].diff(t).subs(t, 0), v_0)]\n",
    "ics"
   ]
  },
  {
   "cell_type": "code",
   "execution_count": 6,
   "metadata": {},
   "outputs": [
    {
     "data": {
      "image/png": "[encoded data removed]",
      "text/latex": [
       "$$\\left [ \\left \\{ C_{1} : \\frac{1}{2 \\sqrt{l^{2} - 4 w^{2}}} \\left(- l x_{0} - 2 v_{0} + x_{0} \\sqrt{l^{2} - 4 w^{2}}\\right), \\quad C_{2} : \\frac{1}{2 \\sqrt{l^{2} - 4 w^{2}}} \\left(l x_{0} + 2 v_{0} + x_{0} \\sqrt{l^{2} - 4 w^{2}}\\right)\\right \\}\\right ]$$"
      ],
      "text/plain": [
       "⎡⎧                         ___________                          ___________⎫⎤\n",
       "⎢⎪                        ╱  2      2                          ╱  2      2 ⎪⎥\n",
       "⎢⎪    -l⋅x₀ - 2⋅v₀ + x₀⋅╲╱  l  - 4⋅w        l⋅x₀ + 2⋅v₀ + x₀⋅╲╱  l  - 4⋅w  ⎪⎥\n",
       "⎢⎨C₁: ────────────────────────────────, C₂: ───────────────────────────────⎬⎥\n",
       "⎢⎪                 ___________                           ___________       ⎪⎥\n",
       "⎢⎪                ╱  2      2                           ╱  2      2        ⎪⎥\n",
       "⎣⎩            2⋅╲╱  l  - 4⋅w                        2⋅╲╱  l  - 4⋅w         ⎭⎦"
      ]
     },
     "execution_count": 6,
     "metadata": {},
     "output_type": "execute_result"
    }
   ],
   "source": [
    "solved_ics = solve(ics)\n",
    "solved_ics"
   ]
  },
  {
   "cell_type": "code",
   "execution_count": 7,
   "metadata": {},
   "outputs": [
    {
     "data": {
      "image/png": "[encoded data removed]",
      "text/latex": [
       "$$x{\\left (t \\right )} = \\frac{e^{\\frac{t}{2} \\left(- l - \\sqrt{l^{2} - 4 w^{2}}\\right)}}{2 \\sqrt{l^{2} - 4 w^{2}}} \\left(- l x_{0} - 2 v_{0} + x_{0} \\sqrt{l^{2} - 4 w^{2}}\\right) + \\frac{e^{\\frac{t}{2} \\left(- l + \\sqrt{l^{2} - 4 w^{2}}\\right)}}{2 \\sqrt{l^{2} - 4 w^{2}}} \\left(l x_{0} + 2 v_{0} + x_{0} \\sqrt{l^{2} - 4 w^{2}}\\right)$$"
      ],
      "text/plain": [
       "                                             ⎛        ___________⎞            \n",
       "                                             ⎜       ╱  2      2 ⎟            \n",
       "                                           t⋅⎝-l - ╲╱  l  - 4⋅w  ⎠            \n",
       "       ⎛                     ___________⎞  ───────────────────────   ⎛        \n",
       "       ⎜                    ╱  2      2 ⎟             2              ⎜        \n",
       "       ⎝-l⋅x₀ - 2⋅v₀ + x₀⋅╲╱  l  - 4⋅w  ⎠⋅ℯ                          ⎝l⋅x₀ + 2\n",
       "x(t) = ─────────────────────────────────────────────────────────── + ─────────\n",
       "                                  ___________                                 \n",
       "                                 ╱  2      2                                  \n",
       "                             2⋅╲╱  l  - 4⋅w                                   \n",
       "\n",
       "                            ⎛        ___________⎞\n",
       "                            ⎜       ╱  2      2 ⎟\n",
       "                          t⋅⎝-l + ╲╱  l  - 4⋅w  ⎠\n",
       "            ___________⎞  ───────────────────────\n",
       "           ╱  2      2 ⎟             2           \n",
       "⋅v₀ + x₀⋅╲╱  l  - 4⋅w  ⎠⋅ℯ                       \n",
       "─────────────────────────────────────────────────\n",
       "                 ___________                     \n",
       "                ╱  2      2                      \n",
       "            2⋅╲╱  l  - 4⋅w                       "
      ]
     },
     "execution_count": 7,
     "metadata": {},
     "output_type": "execute_result"
    }
   ],
   "source": [
    "full_sol = sol.subs(solved_ics[0])\n",
    "full_sol"
   ]
  },
  {
   "cell_type": "markdown",
   "metadata": {},
   "source": [
    "Это уравнение было получено с помощью `sympy` и содержит решение нашей задачи.\n",
    "\n",
    "Нарисуем решение.\n",
    "\n",
    "Будем рассматривать три задачи:\n",
    "- апериодическое движение `l = 26`;\n",
    "- периодическое движение `l = 0`;\n",
    "- движение с затуханием `l = 5`.\n",
    "\n",
    "Будем считать, что $w = 5, x_0 = 0, v_0 = 7$."
   ]
  },
  {
   "cell_type": "code",
   "execution_count": 8,
   "metadata": {
    "collapsed": true
   },
   "outputs": [],
   "source": [
    "%matplotlib inline"
   ]
  },
  {
   "cell_type": "code",
   "execution_count": 9,
   "metadata": {},
   "outputs": [
    {
     "data": {
      "image/png": "[encoded data removed]",
      "text/latex": [
       "$$x{\\left (t \\right )} = \\frac{1}{24} \\left(7 e^{24 t} - 7\\right) e^{- 25 t}$$"
      ],
      "text/plain": [
       "       ⎛   24⋅t    ⎞  -25⋅t\n",
       "       ⎝7⋅ℯ     - 7⎠⋅ℯ     \n",
       "x(t) = ────────────────────\n",
       "                24         "
      ]
     },
     "execution_count": 9,
     "metadata": {},
     "output_type": "execute_result"
    }
   ],
   "source": [
    "case1 = simplify(full_sol.subs({x_0:0, v_0:7, w:5, l:26}))\n",
    "case1"
   ]
  },
  {
   "cell_type": "code",
   "execution_count": 10,
   "metadata": {},
   "outputs": [
    {
     "data": {
      "image/png": "[encoded data removed]",
      "text/plain": [
       "<matplotlib.figure.Figure at 0x7f3d2c080e10>"
      ]
     },
     "metadata": {},
     "output_type": "display_data"
    },
    {
     "data": {
      "text/plain": [
       "<sympy.plotting.plot.Plot at 0x7f3d2e7d7f10>"
      ]
     },
     "execution_count": 10,
     "metadata": {},
     "output_type": "execute_result"
    }
   ],
   "source": [
    "plot(case1.rhs, (t, 0, 10), xlabel='t', ylabel='x')"
   ]
  },
  {
   "cell_type": "code",
   "execution_count": 11,
   "metadata": {},
   "outputs": [
    {
     "data": {
      "image/png": "[encoded data removed]",
      "text/latex": [
       "$$- \\frac{7}{24} e^{- t} + \\frac{175}{24} e^{- 25 t}$$"
      ],
      "text/plain": [
       "     -t        -25⋅t\n",
       "  7⋅ℯ     175⋅ℯ     \n",
       "- ───── + ──────────\n",
       "    24        24    "
      ]
     },
     "execution_count": 11,
     "metadata": {},
     "output_type": "execute_result"
    }
   ],
   "source": [
    "der1 = -7 * exp(-t) / 24 + 7 * 25 * exp(-25 * t) / 24\n",
    "der1"
   ]
  },
  {
   "cell_type": "code",
   "execution_count": 12,
   "metadata": {},
   "outputs": [
    {
     "data": {
      "image/png": "[encoded data removed]",
      "text/plain": [
       "<matplotlib.figure.Figure at 0x7f3d2c022950>"
      ]
     },
     "metadata": {},
     "output_type": "display_data"
    },
    {
     "data": {
      "text/plain": [
       "<sympy.plotting.plot.Plot at 0x7f3d2c022b10>"
      ]
     },
     "execution_count": 12,
     "metadata": {},
     "output_type": "execute_result"
    }
   ],
   "source": [
    "plot_parametric(case1.rhs, der1, xlim=(0, 0.25), ylim=(-5, 10), xlabel='x', ylabel='dx/dt')"
   ]
  },
  {
   "cell_type": "code",
   "execution_count": 13,
   "metadata": {},
   "outputs": [
    {
     "data": {
      "image/png": "[encoded data removed]",
      "text/latex": [
       "$$x{\\left (t \\right )} = \\frac{7 i}{10} \\left(- e^{10 i t} + 1\\right) e^{- 5 i t}$$"
      ],
      "text/plain": [
       "           ⎛   10⋅ⅈ⋅t    ⎞  -5⋅ⅈ⋅t\n",
       "       7⋅ⅈ⋅⎝- ℯ       + 1⎠⋅ℯ      \n",
       "x(t) = ───────────────────────────\n",
       "                    10            "
      ]
     },
     "execution_count": 13,
     "metadata": {},
     "output_type": "execute_result"
    }
   ],
   "source": [
    "case2 = simplify(full_sol.subs({x_0:0, v_0:7, w:5, l:0}))\n",
    "case2"
   ]
  },
  {
   "cell_type": "code",
   "execution_count": 14,
   "metadata": {},
   "outputs": [
    {
     "data": {
      "image/png": "[encoded data removed]",
      "text/plain": [
       "<matplotlib.figure.Figure at 0x7f3d27f3ab90>"
      ]
     },
     "metadata": {},
     "output_type": "display_data"
    },
    {
     "data": {
      "text/plain": [
       "<sympy.plotting.plot.Plot at 0x7f3d27f3add0>"
      ]
     },
     "execution_count": 14,
     "metadata": {},
     "output_type": "execute_result"
    }
   ],
   "source": [
    "plot(case2.rhs, (t, 0, 10), xlabel='t', ylabel='x')"
   ]
  },
  {
   "cell_type": "code",
   "execution_count": 15,
   "metadata": {},
   "outputs": [
    {
     "data": {
      "image/png": "[encoded data removed]",
      "text/latex": [
       "$$\\frac{7}{2} e^{5 i t} + \\frac{7}{2} e^{- 5 i t}$$"
      ],
      "text/plain": [
       "   5⋅ⅈ⋅t      -5⋅ⅈ⋅t\n",
       "7⋅ℯ        7⋅ℯ      \n",
       "──────── + ─────────\n",
       "   2           2    "
      ]
     },
     "execution_count": 15,
     "metadata": {},
     "output_type": "execute_result"
    }
   ],
   "source": [
    "der2 = 35 * exp(-5 * I * t) / 10 + 35 * exp(5 * I * t) / 10\n",
    "der2"
   ]
  },
  {
   "cell_type": "code",
   "execution_count": 23,
   "metadata": {},
   "outputs": [
    {
     "data": {
      "image/png": "[encoded data removed]",
      "text/plain": [
       "<matplotlib.figure.Figure at 0x7f3d24d9a450>"
      ]
     },
     "metadata": {},
     "output_type": "display_data"
    },
    {
     "data": {
      "text/plain": [
       "<sympy.plotting.plot.Plot at 0x7f3d24d9aa50>"
      ]
     },
     "execution_count": 23,
     "metadata": {},
     "output_type": "execute_result"
    }
   ],
   "source": [
    "plot_parametric(case2.rhs, der2, (t, 0, 6000), xlim=(-2, 2), ylim=(-10, 10), xlabel='x', ylabel='dx/dt')"
   ]
  },
  {
   "cell_type": "code",
   "execution_count": 17,
   "metadata": {},
   "outputs": [
    {
     "data": {
      "image/png": "[encoded data removed]",
      "text/latex": [
       "$$x{\\left (t \\right )} = \\frac{7 i}{15} \\sqrt{3} \\left(e^{\\frac{5 t}{2} \\left(1 - \\sqrt{3} i\\right)} - e^{\\frac{5 t}{2} \\left(1 + \\sqrt{3} i\\right)}\\right) e^{- 5 t}$$"
      ],
      "text/plain": [
       "              ⎛ 5⋅t⋅(1 - √3⋅ⅈ)    5⋅t⋅(1 + √3⋅ⅈ)⎞      \n",
       "              ⎜ ──────────────    ──────────────⎟      \n",
       "              ⎜       2                 2       ⎟  -5⋅t\n",
       "       7⋅√3⋅ⅈ⋅⎝ℯ               - ℯ              ⎠⋅ℯ    \n",
       "x(t) = ────────────────────────────────────────────────\n",
       "                              15                       "
      ]
     },
     "execution_count": 17,
     "metadata": {},
     "output_type": "execute_result"
    }
   ],
   "source": [
    "case3 = simplify(full_sol.subs({x_0:0, v_0:7, w:5, l:5}))\n",
    "case3"
   ]
  },
  {
   "cell_type": "code",
   "execution_count": 18,
   "metadata": {},
   "outputs": [
    {
     "data": {
      "image/png": "[encoded data removed]",
      "text/plain": [
       "<matplotlib.figure.Figure at 0x7f3d25231750>"
      ]
     },
     "metadata": {},
     "output_type": "display_data"
    },
    {
     "data": {
      "text/plain": [
       "<sympy.plotting.plot.Plot at 0x7f3d251def10>"
      ]
     },
     "execution_count": 18,
     "metadata": {},
     "output_type": "execute_result"
    }
   ],
   "source": [
    "plot(case3.rhs, (t, 0, 10), xlabel='t', ylabel='x')"
   ]
  },
  {
   "cell_type": "code",
   "execution_count": 19,
   "metadata": {},
   "outputs": [
    {
     "data": {
      "image/png": "[encoded data removed]",
      "text/latex": [
       "$$- \\frac{7 i}{6} \\sqrt{3} \\left(1 + \\sqrt{3} i\\right) e^{- 5 t + \\frac{5 t}{2} \\left(1 - \\sqrt{3} i\\right)} - \\frac{7 i}{6} \\sqrt{3} \\left(-1 + \\sqrt{3} i\\right) e^{- 5 t + \\frac{5 t}{2} \\left(1 + \\sqrt{3} i\\right)}$$"
      ],
      "text/plain": [
       "                            5⋅t⋅(1 - √3⋅ⅈ)                              5⋅t⋅(1\n",
       "                     -5⋅t + ──────────────                       -5⋅t + ──────\n",
       "                                  2                                           \n",
       "  7⋅√3⋅ⅈ⋅(1 + √3⋅ⅈ)⋅ℯ                        7⋅√3⋅ⅈ⋅(-1 + √3⋅ⅈ)⋅ℯ             \n",
       "- ──────────────────────────────────────── - ─────────────────────────────────\n",
       "                     6                                           6            \n",
       "\n",
       " + √3⋅ⅈ)\n",
       "────────\n",
       "2       \n",
       "        \n",
       "────────\n",
       "        "
      ]
     },
     "execution_count": 19,
     "metadata": {},
     "output_type": "execute_result"
    }
   ],
   "source": [
    "der3 = - 7 * I * (sqrt(3) * I + 1) / (2 * sqrt(3)) * exp(5 * t * (1 - sqrt(3) * I) / 2 - 5 * t) - 7 * I * (sqrt(3) * I - 1) / (2 * sqrt(3)) * exp(5 * t * (1 + sqrt(3) * I) / 2 - 5 * t)\n",
    "der3"
   ]
  },
  {
   "cell_type": "code",
   "execution_count": 28,
   "metadata": {},
   "outputs": [
    {
     "data": {
      "image/png": "[encoded data removed]",
      "text/plain": [
       "<matplotlib.figure.Figure at 0x7f3d248abc50>"
      ]
     },
     "metadata": {},
     "output_type": "display_data"
    },
    {
     "data": {
      "text/plain": [
       "<sympy.plotting.plot.Plot at 0x7f3d248ab050>"
      ]
     },
     "execution_count": 28,
     "metadata": {},
     "output_type": "execute_result"
    }
   ],
   "source": [
    "plot_parametric(case3.rhs, der3, xlim=(-0.2, 0.8), ylim=(-5, 10), xlabel='x', ylabel='dx/dt')"
   ]
  },
  {
   "cell_type": "markdown",
   "metadata": {},
   "source": [
    "### Контрольные вопросы\n",
    "#### 1\n",
    "Какое физическое задание описывает уравнение осциллятора?\n",
    "Чему соответствуют физическо переменные $x$ и $y$ в задании?\n",
    "В каком направлении действует периодическая сила?\n",
    "\n",
    "*Ответ: Осциллятор -- система, совершающая колебания,\n",
    "то есть показатели которой периодически повторяются во времени.\n",
    "Гармонический осциллятор -- система, которая при выведении её из положения равновесия испытывает действие возвращающей силы $f_0$, пропорциональной смещению $x : f_0 = -k \\cdot x$, где $k$ -- постоянный коэффициент.\n",
    "$x$ -- смешение материальной точки относительно её положения равновесия.*"
   ]
  },
  {
   "cell_type": "markdown",
   "metadata": {},
   "source": [
    "#### 2\n",
    "В чём состоит нелинейность?\n",
    "\n",
    "*Ответ: Нелинейность осциллятора в случае периодической силы с затуханием состоит в нелинейной функции $sin x$.*"
   ]
  },
  {
   "cell_type": "markdown",
   "metadata": {},
   "source": [
    "#### 3\n",
    "Какие слагаемые в уравнении осциллятора отвечают за какие процессы?\n",
    "\n",
    "*Ответ: Величину $\\omega^2$ называют циклической частотой (имеется в виду круговая частота,\n",
    "измеряющаяся в радианах за секунду).\n",
    "Коэффициент $\\lambda$ носит название постоянной затухания.\n",
    "$A$ -- амплитуда колебаний, $\\beta$ -- частота колебаний.*"
   ]
  },
  {
   "cell_type": "markdown",
   "metadata": {},
   "source": [
    "#### 4\n",
    "Какие эффекты возможны теоретически в нелинейной осцилляторе с периодической силой?\n",
    "Какие эффекты возможны теоретически в линейном осцилляторе с периодической силой?\n",
    "\n",
    "*Ответ: Если частота вынуждающей силы стремится к частоте собственных колебаний осциллятора,\n",
    "то амплитуда неограниченно возрастает.\n",
    "Это явление называется резонансом.\n",
    "Таком образом, если частота вынуждающей силы близка к резонансной частоте,\n",
    "то даже очень малой внешней силой можно вызвать ощутимые колебания в системе.\n",
    "В осцилляторе с трением свободные колебания затухают с экспоненциальной скоростью и, в конце концов, система совершает только вынужденные колебания.\n",
    "Амплитуда вынужденных колебаний при приближении частоты вынуждающей силы к частоте\n",
    "собственных колебаний осциллятора не возрастает неограниченно, а лишь до некоторой конечной величины.*\n",
    "\n",
    "*В случае нелинейного осциллятора частота свободных колебаний обычно зависит от амплитуды.\n",
    "В отличие от линейного случае амплитуда вынужденных колебаний остаётся конечной даже при точном совпадении частот.\n",
    "С ростом амплитуды увеличивается нелинейный сдвиг частоты и резонанскые условия нарушаются.\n",
    "Вследствие этого нарастание амплитуры ограничивается.\n",
    "Совокупность явлений,\n",
    "которые наблюдаются в нелинейном осцилляторе при внешнем периодическом воздействии и проявляются в изменении\n",
    "качественной природы и количественных характеристик вынужденных колебаний в зависимости от амплитуды и частоты\n",
    "воздействия, обозначают термином нелинейный резонанс.*"
   ]
  },
  {
   "cell_type": "markdown",
   "metadata": {},
   "source": [
    "#### 5\n",
    "Что такое резонанс в системе, подвластной действию внешней периодической силы?\n",
    "\n",
    "*Ответ: Резонанс -- частотно-избирательный отклик колебательной системы на периодическое внешнее воздействие,\n",
    "который проявляется в резком увеличении амплитуды стационарных колебаний при совпадении частоты внешнего\n",
    "воздействия с определёнными значениями, характерными для данной системы.*"
   ]
  },
  {
   "cell_type": "markdown",
   "metadata": {},
   "source": [
    "#### 6\n",
    "Что такое частота внейнего воздействия и резонансная частота?\n",
    "\n",
    "*Ответ:\n",
    "Вынужденные колебания вызваны периодическим внешним воздействием и происходят с частотой этого воздействия.\n",
    "Резонанс -- явление резкого возрастания амплитуды вынужденных колебаний,\n",
    "которое наступает при приближении частоты внешнего воздействия к некоторым значениям (резонансным частотам),\n",
    "определяемым свойствами системы.*"
   ]
  },
  {
   "cell_type": "markdown",
   "metadata": {},
   "source": [
    "#### 7\n",
    "Какой фазовый портрет для данной системы при разных начальных данных и параметрах для линейной и нелинейной систем?\n",
    "\n",
    "*Ответ: Совокупность фазовых траекторий, соответствующих разным способам возбуждения (разным начальным условиям)\n",
    "при неизменных параметрах системы образует её фазовый портрет.\n",
    "Фаззовая траектория гармонических колебаний (например,\n",
    "собственных колебаний линейного осциллятора в отсутствие трения) представляет собой эллипс.\n",
    "Фазовый портрет консервативного линейного осциллятора образован набором геометрически подобных\n",
    "эллипсов с общим центром в начале координат фазовой плоскости.\n",
    "Этот центр изображает состояние покоя осциллятора в положении равновесия.\n",
    "Так как через начало координат не проходит ни одна из фазовых траекторий (все траектории окружают эту точку),\n",
    "такая точка фазовой плоскости называется особой точкой типа центр.\n",
    "Фазовая траектория собственных колебаний благодаря трению трансформируется из замкнутой кривой\n",
    "(эллипса или окружности) для консервативного осциллятора в постепенно скручивающуюся спираль,\n",
    "сжимающиеся витки которой наматываются вокруг точки, расположенной в начале координат фазовой плоскости.\n",
    "В этом случае начало координат из особой точки типа центр превращается в особую точку типа фокус.\n",
    "в нелинейных консервативных системах возможна особая точкой типа седло,\n",
    "через которую проходят две фазовые траектории.*"
   ]
  },
  {
   "cell_type": "markdown",
   "metadata": {},
   "source": [
    "#### 8\n",
    "Какие стационарные точки системы в линейном случае?\n",
    "Как зависит движение в линейном случае от параметров $A, \\beta, \\lambda$?\n",
    "При каких теоретических значениях параметров системы наступает резонанс,\n",
    "и как это отображается в результатах моделирования?\n",
    "\n",
    "*Ответ: Стационарные точки: $x = 0, v = 0$.*\n",
    "\n",
    "*Амплитуда может иметь любое значение (в том числе и нулевое -- это означает,\n",
    "что материальная тоска покоится в положении равновесия).\n",
    "Затухание $\\lambda = \\omega$ называют критическим.\n",
    "Начиная с такого значения показателя затухания,\n",
    "осциллятор будет совершать так называемое неколебательное движение.\n",
    "Критическое затухание $\\lambda = \\omega$ примечательно тем,\n",
    "что именно при таком затухании осциллятор быстрее всего оказывается в положении равновесия.\n",
    "Если трение меньше критического, он дойдёт до положения равновесия быстрее,\n",
    "однако \"проскочит\" его по инерции и будет совершать колебания.\n",
    "Если трение больше критического, то осциллятор будет экспоненциально стремиться к положению равновесия,\n",
    "но тем медленнее, чем больше трение.*\n",
    "\n",
    "*Резонанс --\n",
    "это явление резкого\n",
    "возрастания амплитуды вынужденных колебаний при приближении частоты вынуждающей силы к частоте,\n",
    "равной или близкой к частоте собственных колебаний системы.\n",
    "Резонанс на графике отображён скачком амплитуды.*"
   ]
  },
  {
   "cell_type": "markdown",
   "metadata": {},
   "source": [
    "#### 9\n",
    "Может ли решение принимать бесконечные значение за бесконечное и за конечное время?\n",
    "\n",
    "*Ответ: В рассмотренных случаях решение не принимает бесконечное значение.*"
   ]
  }
 ],
 "metadata": {
  "kernelspec": {
   "display_name": "Python 2",
   "language": "python",
   "name": "python2"
  },
  "language_info": {
   "codemirror_mode": {
    "name": "ipython",
    "version": 2
   },
   "file_extension": ".py",
   "mimetype": "text/x-python",
   "name": "python",
   "nbconvert_exporter": "python",
   "pygments_lexer": "ipython2",
   "version": "2.7.13"
  }
 },
 "nbformat": 4,
 "nbformat_minor": 2
}
